{
 "cells": [
  {
   "cell_type": "markdown",
   "metadata": {},
   "source": [
    "# file handling"
   ]
  },
  {
   "cell_type": "markdown",
   "metadata": {},
   "source": [
    "## open\n",
    "## read\n",
    "## write\n",
    "## append\n",
    "## close"
   ]
  },
  {
   "cell_type": "markdown",
   "metadata": {},
   "source": [
    "### . how to read a file\n",
    "##### method1"
   ]
  },
  {
   "cell_type": "code",
   "execution_count": 1,
   "metadata": {},
   "outputs": [
    {
     "name": "stdout",
     "output_type": "stream",
     "text": [
      "room no 128\n",
      "kinnera block,\n",
      "padmavati mahila university,\n",
      "padmavati nagar,\n",
      "tirupati.\n",
      "\n"
     ]
    }
   ],
   "source": [
    "f=open(\"samplefile.txt\",\"r\")\n",
    "data=f.read()\n",
    "print(data)\n",
    "f.close()"
   ]
  },
  {
   "cell_type": "code",
   "execution_count": 3,
   "metadata": {},
   "outputs": [
    {
     "name": "stdout",
     "output_type": "stream",
     "text": [
      "room no 128\n",
      "kinnera block,\n",
      "padmavati mahila university,\n",
      "padmavati nagar,\n",
      "tirupati.\n",
      "\n"
     ]
    }
   ],
   "source": [
    "with open(\"samplefile.txt\",\"r\") as f:\n",
    "    data=f.read()\n",
    "    print(data)"
   ]
  },
  {
   "cell_type": "code",
   "execution_count": 11,
   "metadata": {},
   "outputs": [
    {
     "name": "stdout",
     "output_type": "stream",
     "text": [
      "samplefile.txt\n",
      "room no 128\n",
      "kinnera block,\n",
      "padmavati mahila university,\n",
      "padmavati nagar,\n",
      "tirupati.\n",
      "\n"
     ]
    }
   ],
   "source": [
    "def file(name):\n",
    "    f= open(name,\"r\")\n",
    "    data=f.read()\n",
    "    print(data)\n",
    "    f.close()\n",
    "file(input())    "
   ]
  },
  {
   "cell_type": "code",
   "execution_count": 24,
   "metadata": {},
   "outputs": [
    {
     "ename": "TypeError",
     "evalue": "file() takes 1 positional argument but 2 were given",
     "output_type": "error",
     "traceback": [
      "\u001b[1;31m---------------------------------------------------------------------------\u001b[0m",
      "\u001b[1;31mTypeError\u001b[0m                                 Traceback (most recent call last)",
      "\u001b[1;32m<ipython-input-24-a224d0718ed1>\u001b[0m in \u001b[0;36m<module>\u001b[1;34m\u001b[0m\n\u001b[1;32m----> 1\u001b[1;33m \u001b[0mprint\u001b[0m\u001b[1;33m(\u001b[0m\u001b[0mfile\u001b[0m\u001b[1;33m(\u001b[0m\u001b[1;34m\"samplefile.txt\"\u001b[0m\u001b[1;33m,\u001b[0m\u001b[1;34m\"r\"\u001b[0m\u001b[1;33m)\u001b[0m\u001b[1;33m.\u001b[0m\u001b[0mcapitalize\u001b[0m\u001b[1;33m(\u001b[0m\u001b[1;33m)\u001b[0m\u001b[1;33m)\u001b[0m\u001b[1;33m\u001b[0m\u001b[1;33m\u001b[0m\u001b[0m\n\u001b[0m",
      "\u001b[1;31mTypeError\u001b[0m: file() takes 1 positional argument but 2 were given"
     ]
    }
   ],
   "source": [
    "print(file(\"samplefile.txt\",\"r\").capitalize())"
   ]
  },
  {
   "cell_type": "code",
   "execution_count": 17,
   "metadata": {},
   "outputs": [
    {
     "name": "stdout",
     "output_type": "stream",
     "text": [
      "hello\n"
     ]
    }
   ],
   "source": [
    "with open(\"textfile.txt\",\"w\") as f:\n",
    "    f.write(input())"
   ]
  },
  {
   "cell_type": "markdown",
   "metadata": {},
   "source": [
    "### appending data into file"
   ]
  },
  {
   "cell_type": "code",
   "execution_count": 22,
   "metadata": {},
   "outputs": [
    {
     "name": "stdout",
     "output_type": "stream",
     "text": [
      "2\n",
      "dgddddddg\n",
      "nvhjfki\n"
     ]
    }
   ],
   "source": [
    "n=int(input())\n",
    "for i in range(n):\n",
    "    with open(\"samplefile.txt\",\"a\") as f:\n",
    "        f.write(input()+\"\\n\")\n"
   ]
  },
  {
   "cell_type": "code",
   "execution_count": 25,
   "metadata": {},
   "outputs": [
    {
     "name": "stdout",
     "output_type": "stream",
     "text": [
      "namastehelohifyt\n",
      "\n",
      "dddghy\n",
      "\n"
     ]
    }
   ],
   "source": [
    "with open(\"text.txt\") as f:\n",
    "    data=f.readlines()\n",
    "    for i in data:\n",
    "        print(i)"
   ]
  },
  {
   "cell_type": "code",
   "execution_count": 38,
   "metadata": {},
   "outputs": [
    {
     "name": "stdout",
     "output_type": "stream",
     "text": [
      "2\n"
     ]
    }
   ],
   "source": [
    "test_str=\"lavanyaforlavanya\"\n",
    "count=0\n",
    "for i in test_str:\n",
    "    if i=='l':\n",
    "        count=count+1\n",
    "print(count)        "
   ]
  },
  {
   "cell_type": "code",
   "execution_count": 2,
   "metadata": {},
   "outputs": [
    {
     "ename": "AttributeError",
     "evalue": "module 'os' has no attribute 'start'",
     "output_type": "error",
     "traceback": [
      "\u001b[1;31m---------------------------------------------------------------------------\u001b[0m",
      "\u001b[1;31mAttributeError\u001b[0m                            Traceback (most recent call last)",
      "\u001b[1;32m<ipython-input-2-396969b1dbdb>\u001b[0m in \u001b[0;36m<module>\u001b[1;34m\u001b[0m\n\u001b[0;32m      1\u001b[0m \u001b[1;32mimport\u001b[0m \u001b[0mos\u001b[0m\u001b[1;33m\u001b[0m\u001b[1;33m\u001b[0m\u001b[0m\n\u001b[1;32m----> 2\u001b[1;33m \u001b[0mn\u001b[0m\u001b[1;33m=\u001b[0m\u001b[0mos\u001b[0m\u001b[1;33m.\u001b[0m\u001b[0mstart\u001b[0m\u001b[1;33m(\u001b[0m\u001b[1;34m\"textfile.txt\"\u001b[0m\u001b[1;33m)\u001b[0m\u001b[1;33m\u001b[0m\u001b[1;33m\u001b[0m\u001b[0m\n\u001b[0m\u001b[0;32m      3\u001b[0m \u001b[0mn\u001b[0m\u001b[1;33m.\u001b[0m\u001b[0mst_size\u001b[0m\u001b[1;33m\u001b[0m\u001b[1;33m\u001b[0m\u001b[0m\n",
      "\u001b[1;31mAttributeError\u001b[0m: module 'os' has no attribute 'start'"
     ]
    }
   ],
   "source": [
    "import os\n",
    "n=os.start(\"textfile.txt\")\n",
    "n.st_size"
   ]
  },
  {
   "cell_type": "code",
   "execution_count": 4,
   "metadata": {},
   "outputs": [
    {
     "name": "stdout",
     "output_type": "stream",
     "text": [
      "<built-in method tell of _io.TextIOWrapper object at 0x0000023CD50F0480>\n"
     ]
    }
   ],
   "source": [
    "with open(\"textfile.txt\") as f:\n",
    "    data=f.read()\n",
    "    print(f.tell)//gives cursor position\n"
   ]
  },
  {
   "cell_type": "code",
   "execution_count": 5,
   "metadata": {},
   "outputs": [
    {
     "name": "stdout",
     "output_type": "stream",
     "text": [
      "hello\n"
     ]
    }
   ],
   "source": [
    "with open(\"textfile.txt\") as f:\n",
    "    data=f.read()\n",
    "    f.seek(0)\n",
    "    print(f.read(10))//from seek position"
   ]
  },
  {
   "cell_type": "code",
   "execution_count": 9,
   "metadata": {},
   "outputs": [
    {
     "ename": "SyntaxError",
     "evalue": "unexpected EOF while parsing (<ipython-input-9-76de9effaf48>, line 7)",
     "output_type": "error",
     "traceback": [
      "\u001b[1;36m  File \u001b[1;32m\"<ipython-input-9-76de9effaf48>\"\u001b[1;36m, line \u001b[1;32m7\u001b[0m\n\u001b[1;33m    newcontact(input(),int(input())\u001b[0m\n\u001b[1;37m                                   ^\u001b[0m\n\u001b[1;31mSyntaxError\u001b[0m\u001b[1;31m:\u001b[0m unexpected EOF while parsing\n"
     ]
    }
   ],
   "source": [
    "file='contacts_data.txt'\n",
    "def newcontact(name,number):\n",
    "    fh=open(file,'a')\n",
    "    fh.write(name+\"\"+str(number)+\"\\n\")\n",
    "    fh.close() \n",
    "    return 'contact saved'\n",
    "newcontact(input(),int(input())"
   ]
  },
  {
   "cell_type": "code",
   "execution_count": 1,
   "metadata": {},
   "outputs": [
    {
     "name": "stdout",
     "output_type": "stream",
     "text": [
      "created\n"
     ]
    }
   ],
   "source": [
    "with open(\"marks.txt\",\"w\") as mf:\n",
    "    print(\"created\")\n",
    "    "
   ]
  },
  {
   "cell_type": "code",
   "execution_count": 4,
   "metadata": {},
   "outputs": [],
   "source": [
    "from random import randint\n",
    "with open(\"marks.txt\",\"w\") as mf:\n",
    "    for i in range(1000):\n",
    "        mf.write(str(randint(0,100))+\"\\n\")\n",
    "        \n",
    "    "
   ]
  },
  {
   "cell_type": "markdown",
   "metadata": {},
   "source": [
    "### 1.highest marks"
   ]
  },
  {
   "cell_type": "code",
   "execution_count": 10,
   "metadata": {},
   "outputs": [
    {
     "name": "stdout",
     "output_type": "stream",
     "text": [
      "100\n"
     ]
    }
   ],
   "source": [
    "from random import randint\n",
    "with open(\"marks.txt\",\"r\") as mf:\n",
    "    for i in range(1000):\n",
    "        n= (str(max(0,100)))\n",
    "print(n)"
   ]
  },
  {
   "cell_type": "code",
   "execution_count": 12,
   "metadata": {},
   "outputs": [
    {
     "name": "stdout",
     "output_type": "stream",
     "text": [
      "marks.txt\n",
      "100\n"
     ]
    }
   ],
   "source": [
    "def classreport(file_name):\n",
    "    with open(\"marks.txt\",\"r\") as mf:\n",
    "        for i in range(1000):\n",
    "            n=str(max(0,100))\n",
    "        print(n)\n",
    "classreport(input())        \n",
    "        "
   ]
  },
  {
   "cell_type": "markdown",
   "metadata": {},
   "source": [
    "## 2.average"
   ]
  },
  {
   "cell_type": "code",
   "execution_count": 25,
   "metadata": {},
   "outputs": [
    {
     "name": "stdout",
     "output_type": "stream",
     "text": [
      "499.5\n"
     ]
    }
   ],
   "source": [
    "def classreport(file_name):\n",
    "    sum=0\n",
    "    count=0\n",
    "    with open(\"marks.txt\",\"r\") as mf:\n",
    "        for i in range(1000):\n",
    "            sum=sum+i\n",
    "            count=count+1\n",
    "        avg=sum/count\n",
    "        print(avg)\n",
    "classreport(\"marks.txt\")        \n",
    "            "
   ]
  },
  {
   "cell_type": "code",
   "execution_count": 36,
   "metadata": {},
   "outputs": [
    {
     "ename": "SyntaxError",
     "evalue": "invalid syntax (<ipython-input-36-d636a303b71b>, line 11)",
     "output_type": "error",
     "traceback": [
      "\u001b[1;36m  File \u001b[1;32m\"<ipython-input-36-d636a303b71b>\"\u001b[1;36m, line \u001b[1;32m11\u001b[0m\n\u001b[1;33m    pass=sum/count\u001b[0m\n\u001b[1;37m        ^\u001b[0m\n\u001b[1;31mSyntaxError\u001b[0m\u001b[1;31m:\u001b[0m invalid syntax\n"
     ]
    }
   ],
   "source": [
    "def classreport(file_name):\n",
    "    sum=0\n",
    "    count=0\n",
    "    with open(file_name,\"r\") as mf:\n",
    "        data=mf.read().split()\n",
    "        marks_list=list(map(int,data))\n",
    "        for ele in filr_name:\n",
    "            if ele>=45:\n",
    "                sum=sum+ele\n",
    "                count=count+1\n",
    "        pass=sum/count\n",
    "        pas\n",
    "        print(passcent)\n",
    "classreport(input())"
   ]
  },
  {
   "cell_type": "code",
   "execution_count": 39,
   "metadata": {},
   "outputs": [],
   "source": [
    "def emailvalid(email):\n",
    "    pattern='[a-z0-9]{1,20}[._a-z0-9]{1,10}[a-z0-9]{1,10}[@][a-z0-9]{1,10}'\n",
    "    if re.match(pattern,email):\n",
    "        return True\n",
    "    return False"
   ]
  },
  {
   "cell_type": "code",
   "execution_count": 40,
   "metadata": {},
   "outputs": [
    {
     "ename": "NameError",
     "evalue": "name 'lavanya26998' is not defined",
     "output_type": "error",
     "traceback": [
      "\u001b[1;31m---------------------------------------------------------------------------\u001b[0m",
      "\u001b[1;31mNameError\u001b[0m                                 Traceback (most recent call last)",
      "\u001b[1;32m<ipython-input-40-54100cdc4885>\u001b[0m in \u001b[0;36m<module>\u001b[1;34m\u001b[0m\n\u001b[1;32m----> 1\u001b[1;33m \u001b[0memailvalid\u001b[0m\u001b[1;33m(\u001b[0m\u001b[0mlavanya26998\u001b[0m\u001b[1;33m@\u001b[0m\u001b[0mgmail\u001b[0m\u001b[1;33m.\u001b[0m\u001b[0mcom\u001b[0m\u001b[1;33m)\u001b[0m\u001b[1;33m\u001b[0m\u001b[1;33m\u001b[0m\u001b[0m\n\u001b[0m",
      "\u001b[1;31mNameError\u001b[0m: name 'lavanya26998' is not defined"
     ]
    }
   ],
   "source": [
    "emailvalid(lavanya26998@gmail.com)"
   ]
  },
  {
   "cell_type": "code",
   "execution_count": null,
   "metadata": {},
   "outputs": [],
   "source": []
  }
 ],
 "metadata": {
  "kernelspec": {
   "display_name": "Python 3",
   "language": "python",
   "name": "python3"
  },
  "language_info": {
   "codemirror_mode": {
    "name": "ipython",
    "version": 3
   },
   "file_extension": ".py",
   "mimetype": "text/x-python",
   "name": "python",
   "nbconvert_exporter": "python",
   "pygments_lexer": "ipython3",
   "version": "3.7.3"
  }
 },
 "nbformat": 4,
 "nbformat_minor": 2
}
